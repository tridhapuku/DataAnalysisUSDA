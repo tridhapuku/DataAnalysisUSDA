{
 "cells": [
  {
   "cell_type": "code",
   "execution_count": 3,
   "metadata": {},
   "outputs": [
    {
     "name": "stderr",
     "output_type": "stream",
     "text": [
      "/tmp/ipykernel_169993/1776267197.py:24: DtypeWarning: Columns (1,2,3,4,5,6,7,8,9,10,11,12,13,14,15,16,17,18,19,23,24,25,26,27) have mixed types. Specify dtype option on import or set low_memory=False.\n",
      "  df = pd.read_csv(InputPath + FileName + InputFileExt)\n",
      "/tmp/ipykernel_169993/1776267197.py:34: DtypeWarning: Columns (1,2,3,4,5,6,7,8,9,10,11,12,13,14,15,16,17,18,19,23,24,25,26,27) have mixed types. Specify dtype option on import or set low_memory=False.\n",
      "  dfMain = pd.read_csv(OutputPath + FileName + OutputFileExt,header=None)\n"
     ]
    },
    {
     "name": "stdout",
     "output_type": "stream",
     "text": [
      "1                              TIMESTAMP   RECORD  Year Month Day_of_Month  \\\n",
      "TIMESTAMP                                                                    \n",
      "2023-09-22 09:29:58  2023-09-22 09:29:58  3569647  2023     9           22   \n",
      "2023-09-22 09:29:59  2023-09-22 09:29:59  3569648  2023     9           22   \n",
      "2023-09-22 09:30:00  2023-09-22 09:30:00  3569649  2023     9           22   \n",
      "\n",
      "1                   Day_of_Week Day_of_Year Hour Minute Second  ...  \\\n",
      "TIMESTAMP                                                       ...   \n",
      "2023-09-22 09:29:58           6         265    9     29     58  ...   \n",
      "2023-09-22 09:29:59           6         265    9     29     59  ...   \n",
      "2023-09-22 09:30:00           6         265    9     30      0  ...   \n",
      "\n",
      "1                             CO2            H2O wind_speed wind_direction  \\\n",
      "TIMESTAMP                                                                    \n",
      "2023-09-22 09:29:58    0.00425426   -0.000668843       0.65            139   \n",
      "2023-09-22 09:29:59  0.0001304459  -0.0005459039       0.71            130   \n",
      "2023-09-22 09:30:00   0.002119131  -0.0005809767        0.7            124   \n",
      "\n",
      "1                   diag IncomingSW OutgoingSW IncomingLW OutgoingLW Albedo  \n",
      "TIMESTAMP                                                                    \n",
      "2023-09-22 09:29:58    0      345.2       93.9      338.6      443.9  0.272  \n",
      "2023-09-22 09:29:59    0      345.2       93.9      338.6      443.9  0.272  \n",
      "2023-09-22 09:30:00    0      345.2       93.9      338.6      443.9  0.272  \n",
      "\n",
      "[3 rows x 28 columns]\n",
      "***********\n",
      "Printing merged df\n"
     ]
    }
   ],
   "source": [
    "#Try with bad data -- \n",
    "import pandas as pd\n",
    "import numpy as np\n",
    "import matplotlib.pyplot as plt\n",
    "import os\n",
    "\n",
    "############COnstant Parameters#############\n",
    "OutputFileExt = \".csv\"\n",
    "OutputCleanedExt = \"_Cleaned.csv\"\n",
    "MaxLength = 86400\n",
    "StartTimeStamp = \"00:00:01\"\n",
    "FreqOfData = '1s'\n",
    "\n",
    "############Configurable Parameters#############\n",
    "FileName = \"TOA5_ExProcessing\"\n",
    "InputPath = \"FromPramod/Staton8/bad/\"  #\"FromPramod/Staton8/good/TOA5_50453_CO2_44_2023_235_0000.dat\"\n",
    "InputFileExt = \".dat\"\n",
    "LengthToPlot = MaxLength  #Max = 86400\n",
    "WhichColumnToDisplay = \"CO2\"  #\"CO2\"  #BattVolt \n",
    "OutputPath = InputPath + \"/OutFiles/\"\n",
    "\n",
    "\n",
    "#Read Input file and convert to csv\n",
    "df = pd.read_csv(InputPath + FileName + InputFileExt)\n",
    "# df = pd.read_csv(\"FromPramod/Station3/TOA5_50455_CO2_56_2023_257_0000.dat\")\n",
    "\n",
    "#check if output path exists , if no create it\n",
    "if not (os.path.exists(OutputPath)):\n",
    "    os.makedirs(OutputPath)\n",
    "    print(\"Creating New Directory- OutFiles\")\n",
    "\n",
    "df.to_csv(OutputPath + FileName + OutputFileExt)\n",
    "\n",
    "dfMain = pd.read_csv(OutputPath + FileName + OutputFileExt,header=None)\n",
    "# print(df2.head(2))\n",
    "\n",
    "#Drop index 1,3,4 -- ie, 0,2,3\n",
    "df2_drop = dfMain.drop([dfMain.index[0], dfMain.index[2],dfMain.index[3]])\n",
    "# print(df2_drop.head(4))\n",
    "\n",
    "#Assign new header as columns\n",
    "new_header = df2_drop.iloc[0]\n",
    "df2_drop = df2_drop[1:]\n",
    "df2_drop.columns = new_header\n",
    "df_new = df2_drop.reset_index(drop=True)\n",
    "\n",
    "\n",
    "\n",
    "#Cleaning the other \n",
    "#read from csv and \n",
    "#df2 is our main dataframe -- \n",
    "\n",
    "#Set TimeSeries as Index to main data\n",
    "df_TimeStamp = pd.to_datetime(df_new[\"TIMESTAMP\"])\n",
    "df2_SetIndex = df_new.set_index(df_TimeStamp)\n",
    "\n",
    "#Drop column \n",
    "# df2_SetIndex = df2_SetIndex.drop('^Unnamed', axis=1)\n",
    "print(df2_SetIndex.head(3))\n",
    "\n",
    "#GetDate from Timestamp \n",
    "GetDate = pd.to_datetime(df_new[\"TIMESTAMP\"][0]).date()\n",
    "start_time = pd.Timestamp(str(GetDate) + \" \" + StartTimeStamp)\n",
    "GetTimeRange = pd.date_range(start_time,periods=MaxLength, freq=FreqOfData)\n",
    "print('***********')\n",
    "\n",
    "#create a dataframe from GetTimeRange\n",
    "df_TimeSeries_Full = pd.DataFrame(index=GetTimeRange)\n",
    "\n",
    "# Merge the two DataFrames, filling in NaN for missing values in df2_SetIndex\n",
    "merged_df = pd.concat([df2_SetIndex, df_TimeSeries_Full], axis=1, join='outer')\n",
    "print(\"Printing merged df\")\n",
    "merged_df.to_csv(OutputPath + FileName + \"Merged\" + OutputFileExt)\n"
   ]
  },
  {
   "cell_type": "code",
   "execution_count": 4,
   "metadata": {},
   "outputs": [
    {
     "name": "stderr",
     "output_type": "stream",
     "text": [
      "/tmp/ipykernel_169993/904751592.py:12: DtypeWarning: Columns (1,13,14,15) have mixed types. Specify dtype option on import or set low_memory=False.\n",
      "  df_Clean = pd.read_csv(OutputPath + FileName + OutputCleanedExt)\n"
     ]
    },
    {
     "name": "stdout",
     "output_type": "stream",
     "text": [
      "  TIMESTAMP  Hour  BattVolt  PTemp  AirTemp  Rh  SBTemp_1360  TargTemp_1360  \\\n",
      "0       NaN   NaN       NaN    NaN      NaN NaN          NaN            NaN   \n",
      "1       NaN   NaN       NaN    NaN      NaN NaN          NaN            NaN   \n",
      "2       NaN   NaN       NaN    NaN      NaN NaN          NaN            NaN   \n",
      "3       NaN   NaN       NaN    NaN      NaN NaN          NaN            NaN   \n",
      "4       NaN   NaN       NaN    NaN      NaN NaN          NaN            NaN   \n",
      "\n",
      "   TmV_1360  PAR  CO2  H2O wind_speed wind_direction diag  IncomingSW  \\\n",
      "0       NaN  NaN  NaN  NaN        NaN            NaN  NaN         NaN   \n",
      "1       NaN  NaN  NaN  NaN        NaN            NaN  NaN         NaN   \n",
      "2       NaN  NaN  NaN  NaN        NaN            NaN  NaN         NaN   \n",
      "3       NaN  NaN  NaN  NaN        NaN            NaN  NaN         NaN   \n",
      "4       NaN  NaN  NaN  NaN        NaN            NaN  NaN         NaN   \n",
      "\n",
      "   OutgoingSW  IncomingLW  OutgoingLW  Albedo  \n",
      "0         NaN         NaN         NaN     NaN  \n",
      "1         NaN         NaN         NaN     NaN  \n",
      "2         NaN         NaN         NaN     NaN  \n",
      "3         NaN         NaN         NaN     NaN  \n",
      "4         NaN         NaN         NaN     NaN  \n"
     ]
    },
    {
     "data": {
      "image/png": "[encoded data removed]",
      "text/plain": [
       "<Figure size 640x480 with 1 Axes>"
      ]
     },
     "metadata": {},
     "output_type": "display_data"
    }
   ],
   "source": [
    "# columnsToDrop = [\"RECORD\",\"Year\", \"Month\",\"Day_of_Month\",\"Day_of_Week\",\"Day_of_Year\",\"Hour\",\"Minute\",\"Second\"]\n",
    "df_new = merged_df\n",
    "columnsToDrop = [\"RECORD\",\"Year\", \"Month\",\"Day_of_Month\",\"Day_of_Week\",\"Day_of_Year\",\"Minute\",\"Second\"]\n",
    "df_Clean = df_new.drop(columnsToDrop, axis=1)\n",
    "# print(df_Clean.count())\n",
    "\n",
    "df_Clean.to_csv(OutputPath + FileName + OutputCleanedExt)\n",
    "\n",
    "\n",
    "\n",
    "#dataframes available : \n",
    "df_Clean = pd.read_csv(OutputPath + FileName + OutputCleanedExt)\n",
    "# print(df_Clean.head(5))\n",
    "#Delte first \n",
    "df_Clean = df_Clean.loc[:,~df_Clean.columns.str.contains('^Unnamed')]\n",
    "print(df_Clean.head(5))\n",
    "\n",
    "#Plot CO2\n",
    "df_WhichColumn = df_Clean[WhichColumnToDisplay]\n",
    "df_WhichColumn_Small = df_WhichColumn[:LengthToPlot]\n",
    "df_WhichColumn_Small.plot()\n",
    "\n",
    "\n",
    "plt.title(WhichColumnToDisplay + \" Plot\")\n",
    "plt.savefig(OutputPath + FileName + \"_\" + WhichColumnToDisplay + \"_Plot.png\")\n",
    "plt.show()"
   ]
  }
 ],
 "metadata": {
  "kernelspec": {
   "display_name": "py310_VSCode",
   "language": "python",
   "name": "python3"
  },
  "language_info": {
   "codemirror_mode": {
    "name": "ipython",
    "version": 3
   },
   "file_extension": ".py",
   "mimetype": "text/x-python",
   "name": "python",
   "nbconvert_exporter": "python",
   "pygments_lexer": "ipython3",
   "version": "3.11.5"
  },
  "orig_nbformat": 4
 },
 "nbformat": 4,
 "nbformat_minor": 2
}
